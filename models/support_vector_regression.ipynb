{
 "cells": [
  {
   "cell_type": "markdown",
   "id": "49114e07-9271-418d-ab12-4d9fd7eeead1",
   "metadata": {},
   "source": [
    "# CS 6140 Final Project"
   ]
  },
  {
   "cell_type": "markdown",
   "id": "dc2d880f-cd3c-4c01-bfee-297f33a65c59",
   "metadata": {},
   "source": [
    "Fall 2022\n",
    "\n",
    "Group 8"
   ]
  },
  {
   "cell_type": "markdown",
   "id": "2b460208-21ad-4f80-83c5-47e3ba6c8dd0",
   "metadata": {
    "tags": []
   },
   "source": [
    "# Support Vector Regression Model"
   ]
  },
  {
   "cell_type": "markdown",
   "id": "249f3aec-9c78-4491-a9b0-ea5858acfb43",
   "metadata": {},
   "source": [
    "## Setup"
   ]
  },
  {
   "cell_type": "code",
   "execution_count": 117,
   "id": "3314b803-46d2-4cac-9a0f-2f07cc07b29d",
   "metadata": {},
   "outputs": [],
   "source": [
    "import numpy as np\n",
    "import pandas as pd\n",
    "import seaborn as sns\n",
    "import matplotlib.pyplot as plt\n",
    "from sklearn.svm import SVR\n",
    "from sklearn.model_selection import GridSearchCV"
   ]
  },
  {
   "cell_type": "markdown",
   "id": "86e53c27-e1dd-4861-ab35-71e4f64bbc71",
   "metadata": {},
   "source": [
    "## Import Data from CSV"
   ]
  },
  {
   "cell_type": "code",
   "execution_count": 118,
   "id": "7d293eb9-0405-43e8-9c5e-e3e046cb8d16",
   "metadata": {},
   "outputs": [],
   "source": [
    "BASE_PATH = '../data'\n",
    "POP_DATA_DF_FILE_NAME = 'pop_data_df'\n",
    "POP_ENV_DATA_DF_FILE_NAME = 'pop_env_data_df'\n",
    "EXTENSION = '.csv'"
   ]
  },
  {
   "cell_type": "code",
   "execution_count": 119,
   "id": "29ff941e-7d90-4d2e-9c29-47de43c37f33",
   "metadata": {},
   "outputs": [],
   "source": [
    "pop_data_train_X = pd.read_csv(f'{BASE_PATH}/{POP_DATA_DF_FILE_NAME}_train_X{EXTENSION}', index_col=0)\n",
    "pop_data_train_Y = pd.read_csv(f'{BASE_PATH}/{POP_DATA_DF_FILE_NAME}_train_Y{EXTENSION}', index_col=0)\n",
    "pop_data_test_X = pd.read_csv(f'{BASE_PATH}/{POP_DATA_DF_FILE_NAME}_test_X{EXTENSION}', index_col=0)\n",
    "pop_data_test_Y = pd.read_csv(f'{BASE_PATH}/{POP_DATA_DF_FILE_NAME}_test_Y{EXTENSION}', index_col=0)"
   ]
  },
  {
   "cell_type": "code",
   "execution_count": 120,
   "id": "a19ce9ae-12cc-409c-846d-deb4d85e911a",
   "metadata": {},
   "outputs": [
    {
     "data": {
      "text/html": [
       "<div>\n",
       "<style scoped>\n",
       "    .dataframe tbody tr th:only-of-type {\n",
       "        vertical-align: middle;\n",
       "    }\n",
       "\n",
       "    .dataframe tbody tr th {\n",
       "        vertical-align: top;\n",
       "    }\n",
       "\n",
       "    .dataframe thead th {\n",
       "        text-align: right;\n",
       "    }\n",
       "</style>\n",
       "<table border=\"1\" class=\"dataframe\">\n",
       "  <thead>\n",
       "    <tr style=\"text-align: right;\">\n",
       "      <th></th>\n",
       "      <th>POP_DENS</th>\n",
       "      <th>POP 0-14</th>\n",
       "      <th>POP 15-29</th>\n",
       "      <th>POP 30-44</th>\n",
       "      <th>POP 45-59</th>\n",
       "      <th>POP_GROWTH</th>\n",
       "      <th>HOUSEHOLDS</th>\n",
       "      <th>DWELLINGS</th>\n",
       "    </tr>\n",
       "    <tr>\n",
       "      <th>CODE_NUTS3</th>\n",
       "      <th></th>\n",
       "      <th></th>\n",
       "      <th></th>\n",
       "      <th></th>\n",
       "      <th></th>\n",
       "      <th></th>\n",
       "      <th></th>\n",
       "      <th></th>\n",
       "    </tr>\n",
       "  </thead>\n",
       "  <tbody>\n",
       "    <tr>\n",
       "      <th>DEC03</th>\n",
       "      <td>529.0</td>\n",
       "      <td>15559.0</td>\n",
       "      <td>20069.0</td>\n",
       "      <td>21641.0</td>\n",
       "      <td>32475.0</td>\n",
       "      <td>-1.0</td>\n",
       "      <td>66252</td>\n",
       "      <td>69098</td>\n",
       "    </tr>\n",
       "    <tr>\n",
       "      <th>DE945</th>\n",
       "      <td>721.0</td>\n",
       "      <td>9054.0</td>\n",
       "      <td>14393.0</td>\n",
       "      <td>11290.0</td>\n",
       "      <td>16540.0</td>\n",
       "      <td>1.0</td>\n",
       "      <td>43962</td>\n",
       "      <td>45708</td>\n",
       "    </tr>\n",
       "    <tr>\n",
       "      <th>DE221</th>\n",
       "      <td>1096.0</td>\n",
       "      <td>9366.0</td>\n",
       "      <td>13431.0</td>\n",
       "      <td>14711.0</td>\n",
       "      <td>15587.0</td>\n",
       "      <td>9.0</td>\n",
       "      <td>38229</td>\n",
       "      <td>38163</td>\n",
       "    </tr>\n",
       "    <tr>\n",
       "      <th>DE502</th>\n",
       "      <td>1505.0</td>\n",
       "      <td>16522.0</td>\n",
       "      <td>20190.0</td>\n",
       "      <td>19902.0</td>\n",
       "      <td>24406.0</td>\n",
       "      <td>4.0</td>\n",
       "      <td>62067</td>\n",
       "      <td>64077</td>\n",
       "    </tr>\n",
       "    <tr>\n",
       "      <th>FRB02</th>\n",
       "      <td>73.0</td>\n",
       "      <td>82263.0</td>\n",
       "      <td>65200.0</td>\n",
       "      <td>78313.0</td>\n",
       "      <td>88375.0</td>\n",
       "      <td>0.0</td>\n",
       "      <td>182984</td>\n",
       "      <td>213656</td>\n",
       "    </tr>\n",
       "  </tbody>\n",
       "</table>\n",
       "</div>"
      ],
      "text/plain": [
       "            POP_DENS  POP 0-14  POP 15-29  POP 30-44  POP 45-59  POP_GROWTH  \\\n",
       "CODE_NUTS3                                                                    \n",
       "DEC03          529.0   15559.0    20069.0    21641.0    32475.0        -1.0   \n",
       "DE945          721.0    9054.0    14393.0    11290.0    16540.0         1.0   \n",
       "DE221         1096.0    9366.0    13431.0    14711.0    15587.0         9.0   \n",
       "DE502         1505.0   16522.0    20190.0    19902.0    24406.0         4.0   \n",
       "FRB02           73.0   82263.0    65200.0    78313.0    88375.0         0.0   \n",
       "\n",
       "            HOUSEHOLDS  DWELLINGS  \n",
       "CODE_NUTS3                         \n",
       "DEC03            66252      69098  \n",
       "DE945            43962      45708  \n",
       "DE221            38229      38163  \n",
       "DE502            62067      64077  \n",
       "FRB02           182984     213656  "
      ]
     },
     "execution_count": 120,
     "metadata": {},
     "output_type": "execute_result"
    }
   ],
   "source": [
    "pop_data_train_X.head()"
   ]
  },
  {
   "cell_type": "code",
   "execution_count": 121,
   "id": "aac67af3-b1a9-4dfa-96c5-be4f342b36ae",
   "metadata": {},
   "outputs": [],
   "source": [
    "pop_env_data_train_X = pd.read_csv(f'{BASE_PATH}/{POP_ENV_DATA_DF_FILE_NAME}_train_X{EXTENSION}', index_col=0)\n",
    "pop_env_data_train_Y = pd.read_csv(f'{BASE_PATH}/{POP_ENV_DATA_DF_FILE_NAME}_train_Y{EXTENSION}', index_col=0)\n",
    "pop_env_data_test_X = pd.read_csv(f'{BASE_PATH}/{POP_ENV_DATA_DF_FILE_NAME}_test_X{EXTENSION}', index_col=0)\n",
    "pop_env_data_test_Y = pd.read_csv(f'{BASE_PATH}/{POP_ENV_DATA_DF_FILE_NAME}_test_Y{EXTENSION}', index_col=0)"
   ]
  },
  {
   "cell_type": "code",
   "execution_count": 122,
   "id": "7aa616c6-ec15-4c9d-918e-ae84aced777f",
   "metadata": {},
   "outputs": [
    {
     "data": {
      "text/html": [
       "<div>\n",
       "<style scoped>\n",
       "    .dataframe tbody tr th:only-of-type {\n",
       "        vertical-align: middle;\n",
       "    }\n",
       "\n",
       "    .dataframe tbody tr th {\n",
       "        vertical-align: top;\n",
       "    }\n",
       "\n",
       "    .dataframe thead th {\n",
       "        text-align: right;\n",
       "    }\n",
       "</style>\n",
       "<table border=\"1\" class=\"dataframe\">\n",
       "  <thead>\n",
       "    <tr style=\"text-align: right;\">\n",
       "      <th></th>\n",
       "      <th>POP_DENS</th>\n",
       "      <th>POP 0-14</th>\n",
       "      <th>POP 15-29</th>\n",
       "      <th>POP 30-44</th>\n",
       "      <th>POP 45-59</th>\n",
       "      <th>POP_GROWTH</th>\n",
       "      <th>HOUSEHOLDS</th>\n",
       "      <th>DWELLINGS</th>\n",
       "      <th>SURFACE AREA</th>\n",
       "      <th>NTL_avg</th>\n",
       "      <th>NO2_avg</th>\n",
       "      <th>WIND_Avg</th>\n",
       "      <th>Temp_mean_over12yrs</th>\n",
       "      <th>PRESSURE_avg</th>\n",
       "      <th>PRECIPITATION</th>\n",
       "      <th>SOLAR_RAD_avg</th>\n",
       "      <th>LAI_avg</th>\n",
       "    </tr>\n",
       "    <tr>\n",
       "      <th>CODE_NUTS3</th>\n",
       "      <th></th>\n",
       "      <th></th>\n",
       "      <th></th>\n",
       "      <th></th>\n",
       "      <th></th>\n",
       "      <th></th>\n",
       "      <th></th>\n",
       "      <th></th>\n",
       "      <th></th>\n",
       "      <th></th>\n",
       "      <th></th>\n",
       "      <th></th>\n",
       "      <th></th>\n",
       "      <th></th>\n",
       "      <th></th>\n",
       "      <th></th>\n",
       "      <th></th>\n",
       "    </tr>\n",
       "  </thead>\n",
       "  <tbody>\n",
       "    <tr>\n",
       "      <th>DEC03</th>\n",
       "      <td>529.0</td>\n",
       "      <td>15559.0</td>\n",
       "      <td>20069.0</td>\n",
       "      <td>21641.0</td>\n",
       "      <td>32475.0</td>\n",
       "      <td>-1.0</td>\n",
       "      <td>66252</td>\n",
       "      <td>69098</td>\n",
       "      <td>246.65</td>\n",
       "      <td>31.336805</td>\n",
       "      <td>4.095211</td>\n",
       "      <td>3.360359</td>\n",
       "      <td>8.778715</td>\n",
       "      <td>0.930110</td>\n",
       "      <td>80.084376</td>\n",
       "      <td>10764.871822</td>\n",
       "      <td>1.665278</td>\n",
       "    </tr>\n",
       "    <tr>\n",
       "      <th>DE945</th>\n",
       "      <td>721.0</td>\n",
       "      <td>9054.0</td>\n",
       "      <td>14393.0</td>\n",
       "      <td>11290.0</td>\n",
       "      <td>16540.0</td>\n",
       "      <td>1.0</td>\n",
       "      <td>43962</td>\n",
       "      <td>45708</td>\n",
       "      <td>104.67</td>\n",
       "      <td>41.875000</td>\n",
       "      <td>4.313699</td>\n",
       "      <td>5.501800</td>\n",
       "      <td>9.049961</td>\n",
       "      <td>0.986935</td>\n",
       "      <td>68.641914</td>\n",
       "      <td>9523.265345</td>\n",
       "      <td>1.956432</td>\n",
       "    </tr>\n",
       "    <tr>\n",
       "      <th>DE221</th>\n",
       "      <td>1096.0</td>\n",
       "      <td>9366.0</td>\n",
       "      <td>13431.0</td>\n",
       "      <td>14711.0</td>\n",
       "      <td>15587.0</td>\n",
       "      <td>9.0</td>\n",
       "      <td>38229</td>\n",
       "      <td>38163</td>\n",
       "      <td>65.19</td>\n",
       "      <td>35.798611</td>\n",
       "      <td>3.135912</td>\n",
       "      <td>2.531539</td>\n",
       "      <td>8.409284</td>\n",
       "      <td>0.907395</td>\n",
       "      <td>67.520006</td>\n",
       "      <td>10935.846325</td>\n",
       "      <td>1.731481</td>\n",
       "    </tr>\n",
       "    <tr>\n",
       "      <th>DE502</th>\n",
       "      <td>1505.0</td>\n",
       "      <td>16522.0</td>\n",
       "      <td>20190.0</td>\n",
       "      <td>19902.0</td>\n",
       "      <td>24406.0</td>\n",
       "      <td>4.0</td>\n",
       "      <td>62067</td>\n",
       "      <td>64077</td>\n",
       "      <td>74.42</td>\n",
       "      <td>57.145832</td>\n",
       "      <td>4.106574</td>\n",
       "      <td>5.213889</td>\n",
       "      <td>9.233929</td>\n",
       "      <td>0.987884</td>\n",
       "      <td>59.656085</td>\n",
       "      <td>9548.505361</td>\n",
       "      <td>1.604772</td>\n",
       "    </tr>\n",
       "    <tr>\n",
       "      <th>FRB02</th>\n",
       "      <td>73.0</td>\n",
       "      <td>82263.0</td>\n",
       "      <td>65200.0</td>\n",
       "      <td>78313.0</td>\n",
       "      <td>88375.0</td>\n",
       "      <td>0.0</td>\n",
       "      <td>182984</td>\n",
       "      <td>213656</td>\n",
       "      <td>5870.03</td>\n",
       "      <td>10.001308</td>\n",
       "      <td>2.763907</td>\n",
       "      <td>4.148455</td>\n",
       "      <td>10.357845</td>\n",
       "      <td>1.029795</td>\n",
       "      <td>52.705995</td>\n",
       "      <td>11398.914398</td>\n",
       "      <td>0.438900</td>\n",
       "    </tr>\n",
       "  </tbody>\n",
       "</table>\n",
       "</div>"
      ],
      "text/plain": [
       "            POP_DENS  POP 0-14  POP 15-29  POP 30-44  POP 45-59  POP_GROWTH  \\\n",
       "CODE_NUTS3                                                                    \n",
       "DEC03          529.0   15559.0    20069.0    21641.0    32475.0        -1.0   \n",
       "DE945          721.0    9054.0    14393.0    11290.0    16540.0         1.0   \n",
       "DE221         1096.0    9366.0    13431.0    14711.0    15587.0         9.0   \n",
       "DE502         1505.0   16522.0    20190.0    19902.0    24406.0         4.0   \n",
       "FRB02           73.0   82263.0    65200.0    78313.0    88375.0         0.0   \n",
       "\n",
       "            HOUSEHOLDS  DWELLINGS  SURFACE AREA    NTL_avg   NO2_avg  \\\n",
       "CODE_NUTS3                                                             \n",
       "DEC03            66252      69098        246.65  31.336805  4.095211   \n",
       "DE945            43962      45708        104.67  41.875000  4.313699   \n",
       "DE221            38229      38163         65.19  35.798611  3.135912   \n",
       "DE502            62067      64077         74.42  57.145832  4.106574   \n",
       "FRB02           182984     213656       5870.03  10.001308  2.763907   \n",
       "\n",
       "            WIND_Avg  Temp_mean_over12yrs  PRESSURE_avg  PRECIPITATION  \\\n",
       "CODE_NUTS3                                                               \n",
       "DEC03       3.360359             8.778715      0.930110      80.084376   \n",
       "DE945       5.501800             9.049961      0.986935      68.641914   \n",
       "DE221       2.531539             8.409284      0.907395      67.520006   \n",
       "DE502       5.213889             9.233929      0.987884      59.656085   \n",
       "FRB02       4.148455            10.357845      1.029795      52.705995   \n",
       "\n",
       "            SOLAR_RAD_avg   LAI_avg  \n",
       "CODE_NUTS3                           \n",
       "DEC03        10764.871822  1.665278  \n",
       "DE945         9523.265345  1.956432  \n",
       "DE221        10935.846325  1.731481  \n",
       "DE502         9548.505361  1.604772  \n",
       "FRB02        11398.914398  0.438900  "
      ]
     },
     "execution_count": 122,
     "metadata": {},
     "output_type": "execute_result"
    }
   ],
   "source": [
    "pop_env_data_train_X.head()"
   ]
  },
  {
   "cell_type": "markdown",
   "id": "78b1d25b-ea37-4bcf-8a6c-0f9ebfa1dfd7",
   "metadata": {},
   "source": [
    "## Implement Model"
   ]
  },
  {
   "cell_type": "markdown",
   "id": "9c0539f6-cc48-4c01-961b-ed4edb1f56cf",
   "metadata": {},
   "source": [
    "### Population Data Model"
   ]
  },
  {
   "cell_type": "code",
   "execution_count": 123,
   "id": "69387001-fda6-479d-809a-d9ed021e102e",
   "metadata": {},
   "outputs": [],
   "source": [
    "OUTPUT_COLS = ['COVID_Mortality_R']\n",
    "\n",
    "NUM_MAX_ITERATIONS = 500000\n",
    "\n",
    "NUM_CROSS_VALIDATIONS = 10"
   ]
  },
  {
   "cell_type": "code",
   "execution_count": 124,
   "id": "5e90df88-e671-4047-bf3b-622f41c1e152",
   "metadata": {},
   "outputs": [],
   "source": [
    "train_X = pop_data_train_X\n",
    "train_Y = pop_data_train_Y\n",
    "test_X = pop_data_test_X\n",
    "test_Y = pop_data_test_Y"
   ]
  },
  {
   "cell_type": "code",
   "execution_count": 125,
   "id": "4f320774-4ea6-4ef9-9cf2-73c8aee1819c",
   "metadata": {},
   "outputs": [],
   "source": [
    "svm_regressor = SVR(max_iter=NUM_MAX_ITERATIONS, kernel='rbf')"
   ]
  },
  {
   "cell_type": "code",
   "execution_count": 126,
   "id": "f8f6e871-d801-408d-a46c-69bee14afc72",
   "metadata": {},
   "outputs": [],
   "source": [
    "param_options = {\n",
    "    'C': [0.001, 0.01, 0.1, 1, 10, 100, 1000, 10000, 100000, 1000000], \n",
    "    'gamma': [0.00001, 0.000001, 0.0000001, 0.00000001, 0.000000001]\n",
    "} "
   ]
  },
  {
   "cell_type": "code",
   "execution_count": 127,
   "id": "c40c34f6-11ef-4904-b7ef-0bf81fb7d451",
   "metadata": {},
   "outputs": [
    {
     "data": {
      "text/html": [
       "<style>#sk-container-id-19 {color: black;background-color: white;}#sk-container-id-19 pre{padding: 0;}#sk-container-id-19 div.sk-toggleable {background-color: white;}#sk-container-id-19 label.sk-toggleable__label {cursor: pointer;display: block;width: 100%;margin-bottom: 0;padding: 0.3em;box-sizing: border-box;text-align: center;}#sk-container-id-19 label.sk-toggleable__label-arrow:before {content: \"▸\";float: left;margin-right: 0.25em;color: #696969;}#sk-container-id-19 label.sk-toggleable__label-arrow:hover:before {color: black;}#sk-container-id-19 div.sk-estimator:hover label.sk-toggleable__label-arrow:before {color: black;}#sk-container-id-19 div.sk-toggleable__content {max-height: 0;max-width: 0;overflow: hidden;text-align: left;background-color: #f0f8ff;}#sk-container-id-19 div.sk-toggleable__content pre {margin: 0.2em;color: black;border-radius: 0.25em;background-color: #f0f8ff;}#sk-container-id-19 input.sk-toggleable__control:checked~div.sk-toggleable__content {max-height: 200px;max-width: 100%;overflow: auto;}#sk-container-id-19 input.sk-toggleable__control:checked~label.sk-toggleable__label-arrow:before {content: \"▾\";}#sk-container-id-19 div.sk-estimator input.sk-toggleable__control:checked~label.sk-toggleable__label {background-color: #d4ebff;}#sk-container-id-19 div.sk-label input.sk-toggleable__control:checked~label.sk-toggleable__label {background-color: #d4ebff;}#sk-container-id-19 input.sk-hidden--visually {border: 0;clip: rect(1px 1px 1px 1px);clip: rect(1px, 1px, 1px, 1px);height: 1px;margin: -1px;overflow: hidden;padding: 0;position: absolute;width: 1px;}#sk-container-id-19 div.sk-estimator {font-family: monospace;background-color: #f0f8ff;border: 1px dotted black;border-radius: 0.25em;box-sizing: border-box;margin-bottom: 0.5em;}#sk-container-id-19 div.sk-estimator:hover {background-color: #d4ebff;}#sk-container-id-19 div.sk-parallel-item::after {content: \"\";width: 100%;border-bottom: 1px solid gray;flex-grow: 1;}#sk-container-id-19 div.sk-label:hover label.sk-toggleable__label {background-color: #d4ebff;}#sk-container-id-19 div.sk-serial::before {content: \"\";position: absolute;border-left: 1px solid gray;box-sizing: border-box;top: 0;bottom: 0;left: 50%;z-index: 0;}#sk-container-id-19 div.sk-serial {display: flex;flex-direction: column;align-items: center;background-color: white;padding-right: 0.2em;padding-left: 0.2em;position: relative;}#sk-container-id-19 div.sk-item {position: relative;z-index: 1;}#sk-container-id-19 div.sk-parallel {display: flex;align-items: stretch;justify-content: center;background-color: white;position: relative;}#sk-container-id-19 div.sk-item::before, #sk-container-id-19 div.sk-parallel-item::before {content: \"\";position: absolute;border-left: 1px solid gray;box-sizing: border-box;top: 0;bottom: 0;left: 50%;z-index: -1;}#sk-container-id-19 div.sk-parallel-item {display: flex;flex-direction: column;z-index: 1;position: relative;background-color: white;}#sk-container-id-19 div.sk-parallel-item:first-child::after {align-self: flex-end;width: 50%;}#sk-container-id-19 div.sk-parallel-item:last-child::after {align-self: flex-start;width: 50%;}#sk-container-id-19 div.sk-parallel-item:only-child::after {width: 0;}#sk-container-id-19 div.sk-dashed-wrapped {border: 1px dashed gray;margin: 0 0.4em 0.5em 0.4em;box-sizing: border-box;padding-bottom: 0.4em;background-color: white;}#sk-container-id-19 div.sk-label label {font-family: monospace;font-weight: bold;display: inline-block;line-height: 1.2em;}#sk-container-id-19 div.sk-label-container {text-align: center;}#sk-container-id-19 div.sk-container {/* jupyter's `normalize.less` sets `[hidden] { display: none; }` but bootstrap.min.css set `[hidden] { display: none !important; }` so we also need the `!important` here to be able to override the default hidden behavior on the sphinx rendered scikit-learn.org. See: https://github.com/scikit-learn/scikit-learn/issues/21755 */display: inline-block !important;position: relative;}#sk-container-id-19 div.sk-text-repr-fallback {display: none;}</style><div id=\"sk-container-id-19\" class=\"sk-top-container\"><div class=\"sk-text-repr-fallback\"><pre>SVR(max_iter=500000)</pre><b>In a Jupyter environment, please rerun this cell to show the HTML representation or trust the notebook. <br />On GitHub, the HTML representation is unable to render, please try loading this page with nbviewer.org.</b></div><div class=\"sk-container\" hidden><div class=\"sk-item\"><div class=\"sk-estimator sk-toggleable\"><input class=\"sk-toggleable__control sk-hidden--visually\" id=\"sk-estimator-id-19\" type=\"checkbox\" checked><label for=\"sk-estimator-id-19\" class=\"sk-toggleable__label sk-toggleable__label-arrow\">SVR</label><div class=\"sk-toggleable__content\"><pre>SVR(max_iter=500000)</pre></div></div></div></div></div>"
      ],
      "text/plain": [
       "SVR(max_iter=500000)"
      ]
     },
     "execution_count": 127,
     "metadata": {},
     "output_type": "execute_result"
    }
   ],
   "source": [
    "svm_regressor.fit(train_X, train_Y.values.ravel())"
   ]
  },
  {
   "cell_type": "code",
   "execution_count": null,
   "id": "dd17a88f-8f52-4923-95f2-898e64e8c255",
   "metadata": {},
   "outputs": [],
   "source": [
    "svm_grid_cross_validation = GridSearchCV(svm_regressor, param_options, refit=True, cv=NUM_CROSS_VALIDATIONS).fit(train_X, train_Y.values.ravel())\n",
    "best_svm_regressor = svm_grid_cross_validation.best_estimator_\n",
    "best_svm_regressor.fit(train_X, train_Y)"
   ]
  },
  {
   "cell_type": "code",
   "execution_count": 129,
   "id": "6c161562-448e-4ccc-93d7-ac5ef65594e8",
   "metadata": {},
   "outputs": [
    {
     "data": {
      "image/png": "[encoded data removed]",
      "text/plain": [
       "<Figure size 432x288 with 2 Axes>"
      ]
     },
     "metadata": {
      "needs_background": "light"
     },
     "output_type": "display_data"
    }
   ],
   "source": [
    "results_hash = svm_grid_cross_validation.cv_results_\n",
    "results_stats_df = pd.DataFrame(columns=['C', 'gamma', 'score'])\n",
    "\n",
    "for param_set, mean_score in zip(results_hash['params'], results_hash['mean_test_score']):\n",
    "    results_stats_df.loc[len(results_stats_df.index)] = [param_set['C'], param_set['gamma'], mean_score]\n",
    "\n",
    "results_stats_df = results_stats_df.pivot('C', 'gamma', 'score')\n",
    "\n",
    "ax = plt.axes()\n",
    "ax = sns.heatmap(results_stats_df, annot=True)\n",
    "ax.set_title('Coefficient of Determination')\n",
    "plt.show()"
   ]
  },
  {
   "cell_type": "code",
   "execution_count": 130,
   "id": "002b8cc5-a408-4746-939e-fc5f039e86b0",
   "metadata": {},
   "outputs": [
    {
     "name": "stdout",
     "output_type": "stream",
     "text": [
      "The coefficient of determination is: 5.844884045757015e-02\n"
     ]
    }
   ],
   "source": [
    "print(f'The coefficient of determination is: {np.format_float_scientific(best_svm_regressor.score(test_X, test_Y))}')"
   ]
  },
  {
   "cell_type": "markdown",
   "id": "eba207fe-ed03-4291-bdb3-179fcc09184b",
   "metadata": {},
   "source": [
    "### Population and Environment Data Model"
   ]
  },
  {
   "cell_type": "code",
   "execution_count": 131,
   "id": "fa09f9b9-eac7-4fca-8d44-9c50d109e3d9",
   "metadata": {},
   "outputs": [],
   "source": [
    "OUTPUT_COLS = ['COVID_Mortality_R']\n",
    "\n",
    "NUM_MAX_ITERATIONS = 100000\n",
    "\n",
    "NUM_CROSS_VALIDATIONS = 10"
   ]
  },
  {
   "cell_type": "code",
   "execution_count": 132,
   "id": "a16722aa-3ad9-417f-90e4-094f1ac2742f",
   "metadata": {},
   "outputs": [],
   "source": [
    "train_X = pop_env_data_train_X\n",
    "train_Y = pop_env_data_train_Y\n",
    "test_X = pop_env_data_test_X\n",
    "test_Y = pop_env_data_test_Y"
   ]
  },
  {
   "cell_type": "code",
   "execution_count": 133,
   "id": "01fbeeff-1926-4fcd-9970-0c114eb31abc",
   "metadata": {},
   "outputs": [],
   "source": [
    "svm_regressor = SVR(max_iter=NUM_MAX_ITERATIONS, kernel='rbf')"
   ]
  },
  {
   "cell_type": "code",
   "execution_count": 134,
   "id": "5c9d8fe5-7091-4953-a1d8-9c0611a8897f",
   "metadata": {},
   "outputs": [],
   "source": [
    "param_options = {\n",
    "    'C': [0.001, 0.01, 0.1, 1, 10, 100, 1000, 10000, 100000, 1000000], \n",
    "    'gamma': [0.00001, 0.000001, 0.0000001, 0.00000001, 0.000000001]\n",
    "} "
   ]
  },
  {
   "cell_type": "code",
   "execution_count": 135,
   "id": "e3126fe3-5e19-4836-88a5-e9970d33a4cf",
   "metadata": {},
   "outputs": [
    {
     "data": {
      "text/html": [
       "<style>#sk-container-id-21 {color: black;background-color: white;}#sk-container-id-21 pre{padding: 0;}#sk-container-id-21 div.sk-toggleable {background-color: white;}#sk-container-id-21 label.sk-toggleable__label {cursor: pointer;display: block;width: 100%;margin-bottom: 0;padding: 0.3em;box-sizing: border-box;text-align: center;}#sk-container-id-21 label.sk-toggleable__label-arrow:before {content: \"▸\";float: left;margin-right: 0.25em;color: #696969;}#sk-container-id-21 label.sk-toggleable__label-arrow:hover:before {color: black;}#sk-container-id-21 div.sk-estimator:hover label.sk-toggleable__label-arrow:before {color: black;}#sk-container-id-21 div.sk-toggleable__content {max-height: 0;max-width: 0;overflow: hidden;text-align: left;background-color: #f0f8ff;}#sk-container-id-21 div.sk-toggleable__content pre {margin: 0.2em;color: black;border-radius: 0.25em;background-color: #f0f8ff;}#sk-container-id-21 input.sk-toggleable__control:checked~div.sk-toggleable__content {max-height: 200px;max-width: 100%;overflow: auto;}#sk-container-id-21 input.sk-toggleable__control:checked~label.sk-toggleable__label-arrow:before {content: \"▾\";}#sk-container-id-21 div.sk-estimator input.sk-toggleable__control:checked~label.sk-toggleable__label {background-color: #d4ebff;}#sk-container-id-21 div.sk-label input.sk-toggleable__control:checked~label.sk-toggleable__label {background-color: #d4ebff;}#sk-container-id-21 input.sk-hidden--visually {border: 0;clip: rect(1px 1px 1px 1px);clip: rect(1px, 1px, 1px, 1px);height: 1px;margin: -1px;overflow: hidden;padding: 0;position: absolute;width: 1px;}#sk-container-id-21 div.sk-estimator {font-family: monospace;background-color: #f0f8ff;border: 1px dotted black;border-radius: 0.25em;box-sizing: border-box;margin-bottom: 0.5em;}#sk-container-id-21 div.sk-estimator:hover {background-color: #d4ebff;}#sk-container-id-21 div.sk-parallel-item::after {content: \"\";width: 100%;border-bottom: 1px solid gray;flex-grow: 1;}#sk-container-id-21 div.sk-label:hover label.sk-toggleable__label {background-color: #d4ebff;}#sk-container-id-21 div.sk-serial::before {content: \"\";position: absolute;border-left: 1px solid gray;box-sizing: border-box;top: 0;bottom: 0;left: 50%;z-index: 0;}#sk-container-id-21 div.sk-serial {display: flex;flex-direction: column;align-items: center;background-color: white;padding-right: 0.2em;padding-left: 0.2em;position: relative;}#sk-container-id-21 div.sk-item {position: relative;z-index: 1;}#sk-container-id-21 div.sk-parallel {display: flex;align-items: stretch;justify-content: center;background-color: white;position: relative;}#sk-container-id-21 div.sk-item::before, #sk-container-id-21 div.sk-parallel-item::before {content: \"\";position: absolute;border-left: 1px solid gray;box-sizing: border-box;top: 0;bottom: 0;left: 50%;z-index: -1;}#sk-container-id-21 div.sk-parallel-item {display: flex;flex-direction: column;z-index: 1;position: relative;background-color: white;}#sk-container-id-21 div.sk-parallel-item:first-child::after {align-self: flex-end;width: 50%;}#sk-container-id-21 div.sk-parallel-item:last-child::after {align-self: flex-start;width: 50%;}#sk-container-id-21 div.sk-parallel-item:only-child::after {width: 0;}#sk-container-id-21 div.sk-dashed-wrapped {border: 1px dashed gray;margin: 0 0.4em 0.5em 0.4em;box-sizing: border-box;padding-bottom: 0.4em;background-color: white;}#sk-container-id-21 div.sk-label label {font-family: monospace;font-weight: bold;display: inline-block;line-height: 1.2em;}#sk-container-id-21 div.sk-label-container {text-align: center;}#sk-container-id-21 div.sk-container {/* jupyter's `normalize.less` sets `[hidden] { display: none; }` but bootstrap.min.css set `[hidden] { display: none !important; }` so we also need the `!important` here to be able to override the default hidden behavior on the sphinx rendered scikit-learn.org. See: https://github.com/scikit-learn/scikit-learn/issues/21755 */display: inline-block !important;position: relative;}#sk-container-id-21 div.sk-text-repr-fallback {display: none;}</style><div id=\"sk-container-id-21\" class=\"sk-top-container\"><div class=\"sk-text-repr-fallback\"><pre>SVR(max_iter=100000)</pre><b>In a Jupyter environment, please rerun this cell to show the HTML representation or trust the notebook. <br />On GitHub, the HTML representation is unable to render, please try loading this page with nbviewer.org.</b></div><div class=\"sk-container\" hidden><div class=\"sk-item\"><div class=\"sk-estimator sk-toggleable\"><input class=\"sk-toggleable__control sk-hidden--visually\" id=\"sk-estimator-id-21\" type=\"checkbox\" checked><label for=\"sk-estimator-id-21\" class=\"sk-toggleable__label sk-toggleable__label-arrow\">SVR</label><div class=\"sk-toggleable__content\"><pre>SVR(max_iter=100000)</pre></div></div></div></div></div>"
      ],
      "text/plain": [
       "SVR(max_iter=100000)"
      ]
     },
     "execution_count": 135,
     "metadata": {},
     "output_type": "execute_result"
    }
   ],
   "source": [
    "svm_regressor.fit(train_X, train_Y.values.ravel())"
   ]
  },
  {
   "cell_type": "code",
   "execution_count": null,
   "id": "bd398cf1-6f74-446a-a2e8-e7a3c500dc45",
   "metadata": {},
   "outputs": [],
   "source": [
    "svm_grid_cross_validation = GridSearchCV(svm_regressor, param_options, refit=True, cv=NUM_CROSS_VALIDATIONS).fit(train_X, train_Y.values.ravel())\n",
    "best_svm_regressor = svm_grid_cross_validation.best_estimator_\n",
    "best_svm_regressor.fit(train_X, train_Y)"
   ]
  },
  {
   "cell_type": "code",
   "execution_count": 137,
   "id": "25ecd504-68f1-4c68-94ef-40edc4f864c1",
   "metadata": {},
   "outputs": [
    {
     "data": {
      "image/png": "[encoded data removed]",
      "text/plain": [
       "<Figure size 432x288 with 2 Axes>"
      ]
     },
     "metadata": {
      "needs_background": "light"
     },
     "output_type": "display_data"
    }
   ],
   "source": [
    "results_hash = svm_grid_cross_validation.cv_results_\n",
    "results_stats_df = pd.DataFrame(columns=['C', 'gamma', 'score'])\n",
    "\n",
    "for param_set, mean_score in zip(results_hash['params'], results_hash['mean_test_score']):\n",
    "    results_stats_df.loc[len(results_stats_df.index)] = [param_set['C'], param_set['gamma'], mean_score]\n",
    "\n",
    "results_stats_df = results_stats_df.pivot('C', 'gamma', 'score')\n",
    "\n",
    "ax = plt.axes()\n",
    "ax = sns.heatmap(results_stats_df, annot=True)\n",
    "ax.set_title('Coefficient of Determination')\n",
    "plt.show()"
   ]
  },
  {
   "cell_type": "code",
   "execution_count": 138,
   "id": "0c515610-9ff8-4370-b965-5093a0b8ca61",
   "metadata": {},
   "outputs": [
    {
     "name": "stdout",
     "output_type": "stream",
     "text": [
      "The coefficient of determination is: 6.1268933367104594e-02\n"
     ]
    }
   ],
   "source": [
    "print(f'The coefficient of determination is: {np.format_float_scientific(best_svm_regressor.score(test_X, test_Y))}')"
   ]
  }
 ],
 "metadata": {
  "kernelspec": {
   "display_name": "Python 3 (ipykernel)",
   "language": "python",
   "name": "python3"
  },
  "language_info": {
   "codemirror_mode": {
    "name": "ipython",
    "version": 3
   },
   "file_extension": ".py",
   "mimetype": "text/x-python",
   "name": "python",
   "nbconvert_exporter": "python",
   "pygments_lexer": "ipython3",
   "version": "3.10.5"
  }
 },
 "nbformat": 4,
 "nbformat_minor": 5
}
