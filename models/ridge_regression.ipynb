{
 "cells": [
  {
   "cell_type": "markdown",
   "id": "49114e07-9271-418d-ab12-4d9fd7eeead1",
   "metadata": {},
   "source": [
    "# CS 6140 Final Project"
   ]
  },
  {
   "cell_type": "markdown",
   "id": "dc2d880f-cd3c-4c01-bfee-297f33a65c59",
   "metadata": {},
   "source": [
    "Fall 2022\n",
    "\n",
    "Group 8"
   ]
  },
  {
   "cell_type": "markdown",
   "id": "2b460208-21ad-4f80-83c5-47e3ba6c8dd0",
   "metadata": {
    "tags": []
   },
   "source": [
    "# Ridge Regression Model"
   ]
  },
  {
   "cell_type": "markdown",
   "id": "249f3aec-9c78-4491-a9b0-ea5858acfb43",
   "metadata": {},
   "source": [
    "## Setup"
   ]
  },
  {
   "cell_type": "code",
   "execution_count": 22,
   "id": "3314b803-46d2-4cac-9a0f-2f07cc07b29d",
   "metadata": {},
   "outputs": [],
   "source": [
    "import numpy as np\n",
    "import pandas as pd\n",
    "import seaborn as sns\n",
    "import matplotlib.pyplot as plt\n",
    "from sklearn.linear_model import RidgeCV"
   ]
  },
  {
   "cell_type": "markdown",
   "id": "86e53c27-e1dd-4861-ab35-71e4f64bbc71",
   "metadata": {},
   "source": [
    "## Import Data from CSV"
   ]
  },
  {
   "cell_type": "code",
   "execution_count": 23,
   "id": "7d293eb9-0405-43e8-9c5e-e3e046cb8d16",
   "metadata": {},
   "outputs": [],
   "source": [
    "BASE_PATH = '../data'\n",
    "POP_DATA_DF_FILE_NAME = 'pop_data_df'\n",
    "POP_ENV_DATA_DF_FILE_NAME = 'pop_env_data_df'\n",
    "EXTENSION = '.csv'"
   ]
  },
  {
   "cell_type": "code",
   "execution_count": 24,
   "id": "29ff941e-7d90-4d2e-9c29-47de43c37f33",
   "metadata": {},
   "outputs": [],
   "source": [
    "pop_data_train_X = pd.read_csv(f'{BASE_PATH}/{POP_DATA_DF_FILE_NAME}_train_X{EXTENSION}', index_col=0)\n",
    "pop_data_train_Y = pd.read_csv(f'{BASE_PATH}/{POP_DATA_DF_FILE_NAME}_train_Y{EXTENSION}', index_col=0)\n",
    "pop_data_test_X = pd.read_csv(f'{BASE_PATH}/{POP_DATA_DF_FILE_NAME}_test_X{EXTENSION}', index_col=0)\n",
    "pop_data_test_Y = pd.read_csv(f'{BASE_PATH}/{POP_DATA_DF_FILE_NAME}_test_Y{EXTENSION}', index_col=0)"
   ]
  },
  {
   "cell_type": "code",
   "execution_count": 25,
   "id": "a19ce9ae-12cc-409c-846d-deb4d85e911a",
   "metadata": {},
   "outputs": [
    {
     "data": {
      "text/html": [
       "<div>\n",
       "<style scoped>\n",
       "    .dataframe tbody tr th:only-of-type {\n",
       "        vertical-align: middle;\n",
       "    }\n",
       "\n",
       "    .dataframe tbody tr th {\n",
       "        vertical-align: top;\n",
       "    }\n",
       "\n",
       "    .dataframe thead th {\n",
       "        text-align: right;\n",
       "    }\n",
       "</style>\n",
       "<table border=\"1\" class=\"dataframe\">\n",
       "  <thead>\n",
       "    <tr style=\"text-align: right;\">\n",
       "      <th></th>\n",
       "      <th>POP_DENS</th>\n",
       "      <th>POP 0-14</th>\n",
       "      <th>POP 15-29</th>\n",
       "      <th>POP 30-44</th>\n",
       "      <th>POP 45-59</th>\n",
       "      <th>POP_GROWTH</th>\n",
       "      <th>HOUSEHOLDS</th>\n",
       "      <th>DWELLINGS</th>\n",
       "    </tr>\n",
       "    <tr>\n",
       "      <th>CODE_NUTS3</th>\n",
       "      <th></th>\n",
       "      <th></th>\n",
       "      <th></th>\n",
       "      <th></th>\n",
       "      <th></th>\n",
       "      <th></th>\n",
       "      <th></th>\n",
       "      <th></th>\n",
       "    </tr>\n",
       "  </thead>\n",
       "  <tbody>\n",
       "    <tr>\n",
       "      <th>UKD33</th>\n",
       "      <td>4778.0</td>\n",
       "      <td>106168.0</td>\n",
       "      <td>169423.0</td>\n",
       "      <td>123404.0</td>\n",
       "      <td>82110.0</td>\n",
       "      <td>6.0</td>\n",
       "      <td>234751</td>\n",
       "      <td>226986</td>\n",
       "    </tr>\n",
       "    <tr>\n",
       "      <th>UKI74</th>\n",
       "      <td>3372.0</td>\n",
       "      <td>113739.0</td>\n",
       "      <td>106660.0</td>\n",
       "      <td>126581.0</td>\n",
       "      <td>105063.0</td>\n",
       "      <td>4.0</td>\n",
       "      <td>209295</td>\n",
       "      <td>202070</td>\n",
       "    </tr>\n",
       "    <tr>\n",
       "      <th>DE21F</th>\n",
       "      <td>116.0</td>\n",
       "      <td>13684.0</td>\n",
       "      <td>15669.0</td>\n",
       "      <td>17515.0</td>\n",
       "      <td>24401.0</td>\n",
       "      <td>4.0</td>\n",
       "      <td>49170</td>\n",
       "      <td>50795</td>\n",
       "    </tr>\n",
       "    <tr>\n",
       "      <th>DE21G</th>\n",
       "      <td>144.0</td>\n",
       "      <td>16220.0</td>\n",
       "      <td>20210.0</td>\n",
       "      <td>20988.0</td>\n",
       "      <td>27603.0</td>\n",
       "      <td>6.0</td>\n",
       "      <td>51506</td>\n",
       "      <td>50667</td>\n",
       "    </tr>\n",
       "    <tr>\n",
       "      <th>UKC23</th>\n",
       "      <td>2021.0</td>\n",
       "      <td>46434.0</td>\n",
       "      <td>52562.0</td>\n",
       "      <td>48995.0</td>\n",
       "      <td>58993.0</td>\n",
       "      <td>1.0</td>\n",
       "      <td>126170</td>\n",
       "      <td>128789</td>\n",
       "    </tr>\n",
       "  </tbody>\n",
       "</table>\n",
       "</div>"
      ],
      "text/plain": [
       "            POP_DENS  POP 0-14  POP 15-29  POP 30-44  POP 45-59  POP_GROWTH  \\\n",
       "CODE_NUTS3                                                                    \n",
       "UKD33         4778.0  106168.0   169423.0   123404.0    82110.0         6.0   \n",
       "UKI74         3372.0  113739.0   106660.0   126581.0   105063.0         4.0   \n",
       "DE21F          116.0   13684.0    15669.0    17515.0    24401.0         4.0   \n",
       "DE21G          144.0   16220.0    20210.0    20988.0    27603.0         6.0   \n",
       "UKC23         2021.0   46434.0    52562.0    48995.0    58993.0         1.0   \n",
       "\n",
       "            HOUSEHOLDS  DWELLINGS  \n",
       "CODE_NUTS3                         \n",
       "UKD33           234751     226986  \n",
       "UKI74           209295     202070  \n",
       "DE21F            49170      50795  \n",
       "DE21G            51506      50667  \n",
       "UKC23           126170     128789  "
      ]
     },
     "execution_count": 25,
     "metadata": {},
     "output_type": "execute_result"
    }
   ],
   "source": [
    "pop_data_train_X.head()"
   ]
  },
  {
   "cell_type": "code",
   "execution_count": 26,
   "id": "aac67af3-b1a9-4dfa-96c5-be4f342b36ae",
   "metadata": {},
   "outputs": [],
   "source": [
    "pop_env_data_train_X = pd.read_csv(f'{BASE_PATH}/{POP_ENV_DATA_DF_FILE_NAME}_train_X{EXTENSION}', index_col=0)\n",
    "pop_env_data_train_Y = pd.read_csv(f'{BASE_PATH}/{POP_ENV_DATA_DF_FILE_NAME}_train_Y{EXTENSION}', index_col=0)\n",
    "pop_env_data_test_X = pd.read_csv(f'{BASE_PATH}/{POP_ENV_DATA_DF_FILE_NAME}_test_X{EXTENSION}', index_col=0)\n",
    "pop_env_data_test_Y = pd.read_csv(f'{BASE_PATH}/{POP_ENV_DATA_DF_FILE_NAME}_test_Y{EXTENSION}', index_col=0)"
   ]
  },
  {
   "cell_type": "code",
   "execution_count": 27,
   "id": "7aa616c6-ec15-4c9d-918e-ae84aced777f",
   "metadata": {},
   "outputs": [
    {
     "data": {
      "text/html": [
       "<div>\n",
       "<style scoped>\n",
       "    .dataframe tbody tr th:only-of-type {\n",
       "        vertical-align: middle;\n",
       "    }\n",
       "\n",
       "    .dataframe tbody tr th {\n",
       "        vertical-align: top;\n",
       "    }\n",
       "\n",
       "    .dataframe thead th {\n",
       "        text-align: right;\n",
       "    }\n",
       "</style>\n",
       "<table border=\"1\" class=\"dataframe\">\n",
       "  <thead>\n",
       "    <tr style=\"text-align: right;\">\n",
       "      <th></th>\n",
       "      <th>POP_DENS</th>\n",
       "      <th>POP 0-14</th>\n",
       "      <th>POP 15-29</th>\n",
       "      <th>POP 30-44</th>\n",
       "      <th>POP 45-59</th>\n",
       "      <th>POP_GROWTH</th>\n",
       "      <th>HOUSEHOLDS</th>\n",
       "      <th>DWELLINGS</th>\n",
       "      <th>SURFACE AREA</th>\n",
       "      <th>NTL_avg</th>\n",
       "      <th>NO2_avg</th>\n",
       "      <th>WIND_Avg</th>\n",
       "      <th>Temp_mean_over12yrs</th>\n",
       "      <th>PRESSURE_avg</th>\n",
       "      <th>PRECIPITATION</th>\n",
       "      <th>SOLAR_RAD_avg</th>\n",
       "      <th>LAI_avg</th>\n",
       "    </tr>\n",
       "    <tr>\n",
       "      <th>CODE_NUTS3</th>\n",
       "      <th></th>\n",
       "      <th></th>\n",
       "      <th></th>\n",
       "      <th></th>\n",
       "      <th></th>\n",
       "      <th></th>\n",
       "      <th></th>\n",
       "      <th></th>\n",
       "      <th></th>\n",
       "      <th></th>\n",
       "      <th></th>\n",
       "      <th></th>\n",
       "      <th></th>\n",
       "      <th></th>\n",
       "      <th></th>\n",
       "      <th></th>\n",
       "      <th></th>\n",
       "    </tr>\n",
       "  </thead>\n",
       "  <tbody>\n",
       "    <tr>\n",
       "      <th>UKD33</th>\n",
       "      <td>4778.0</td>\n",
       "      <td>106168.0</td>\n",
       "      <td>169423.0</td>\n",
       "      <td>123404.0</td>\n",
       "      <td>82110.0</td>\n",
       "      <td>6.0</td>\n",
       "      <td>234751</td>\n",
       "      <td>226986</td>\n",
       "      <td>114.15</td>\n",
       "      <td>63.000000</td>\n",
       "      <td>5.585338</td>\n",
       "      <td>3.747743</td>\n",
       "      <td>9.953530</td>\n",
       "      <td>0.970338</td>\n",
       "      <td>70.400078</td>\n",
       "      <td>9287.124356</td>\n",
       "      <td>1.365212</td>\n",
       "    </tr>\n",
       "    <tr>\n",
       "      <th>UKI74</th>\n",
       "      <td>3372.0</td>\n",
       "      <td>113739.0</td>\n",
       "      <td>106660.0</td>\n",
       "      <td>126581.0</td>\n",
       "      <td>105063.0</td>\n",
       "      <td>4.0</td>\n",
       "      <td>209295</td>\n",
       "      <td>202070</td>\n",
       "      <td>164.04</td>\n",
       "      <td>62.611111</td>\n",
       "      <td>5.838824</td>\n",
       "      <td>4.022762</td>\n",
       "      <td>10.483912</td>\n",
       "      <td>0.995814</td>\n",
       "      <td>52.331597</td>\n",
       "      <td>9711.670648</td>\n",
       "      <td>1.676107</td>\n",
       "    </tr>\n",
       "    <tr>\n",
       "      <th>DE21F</th>\n",
       "      <td>116.0</td>\n",
       "      <td>13684.0</td>\n",
       "      <td>15669.0</td>\n",
       "      <td>17515.0</td>\n",
       "      <td>24401.0</td>\n",
       "      <td>4.0</td>\n",
       "      <td>49170</td>\n",
       "      <td>50795</td>\n",
       "      <td>857.98</td>\n",
       "      <td>10.228535</td>\n",
       "      <td>2.574793</td>\n",
       "      <td>2.613219</td>\n",
       "      <td>7.298616</td>\n",
       "      <td>0.796922</td>\n",
       "      <td>109.000675</td>\n",
       "      <td>11463.416494</td>\n",
       "      <td>2.555620</td>\n",
       "    </tr>\n",
       "    <tr>\n",
       "      <th>DE21G</th>\n",
       "      <td>144.0</td>\n",
       "      <td>16220.0</td>\n",
       "      <td>20210.0</td>\n",
       "      <td>20988.0</td>\n",
       "      <td>27603.0</td>\n",
       "      <td>6.0</td>\n",
       "      <td>51506</td>\n",
       "      <td>50667</td>\n",
       "      <td>797.05</td>\n",
       "      <td>10.397917</td>\n",
       "      <td>2.833501</td>\n",
       "      <td>2.396661</td>\n",
       "      <td>8.284346</td>\n",
       "      <td>0.911123</td>\n",
       "      <td>76.906713</td>\n",
       "      <td>11003.100022</td>\n",
       "      <td>2.670005</td>\n",
       "    </tr>\n",
       "    <tr>\n",
       "      <th>UKC23</th>\n",
       "      <td>2021.0</td>\n",
       "      <td>46434.0</td>\n",
       "      <td>52562.0</td>\n",
       "      <td>48995.0</td>\n",
       "      <td>58993.0</td>\n",
       "      <td>1.0</td>\n",
       "      <td>126170</td>\n",
       "      <td>128789</td>\n",
       "      <td>136.64</td>\n",
       "      <td>58.305557</td>\n",
       "      <td>3.644446</td>\n",
       "      <td>5.385735</td>\n",
       "      <td>9.080700</td>\n",
       "      <td>0.959126</td>\n",
       "      <td>54.822049</td>\n",
       "      <td>9251.519674</td>\n",
       "      <td>1.202203</td>\n",
       "    </tr>\n",
       "  </tbody>\n",
       "</table>\n",
       "</div>"
      ],
      "text/plain": [
       "            POP_DENS  POP 0-14  POP 15-29  POP 30-44  POP 45-59  POP_GROWTH  \\\n",
       "CODE_NUTS3                                                                    \n",
       "UKD33         4778.0  106168.0   169423.0   123404.0    82110.0         6.0   \n",
       "UKI74         3372.0  113739.0   106660.0   126581.0   105063.0         4.0   \n",
       "DE21F          116.0   13684.0    15669.0    17515.0    24401.0         4.0   \n",
       "DE21G          144.0   16220.0    20210.0    20988.0    27603.0         6.0   \n",
       "UKC23         2021.0   46434.0    52562.0    48995.0    58993.0         1.0   \n",
       "\n",
       "            HOUSEHOLDS  DWELLINGS  SURFACE AREA    NTL_avg   NO2_avg  \\\n",
       "CODE_NUTS3                                                             \n",
       "UKD33           234751     226986        114.15  63.000000  5.585338   \n",
       "UKI74           209295     202070        164.04  62.611111  5.838824   \n",
       "DE21F            49170      50795        857.98  10.228535  2.574793   \n",
       "DE21G            51506      50667        797.05  10.397917  2.833501   \n",
       "UKC23           126170     128789        136.64  58.305557  3.644446   \n",
       "\n",
       "            WIND_Avg  Temp_mean_over12yrs  PRESSURE_avg  PRECIPITATION  \\\n",
       "CODE_NUTS3                                                               \n",
       "UKD33       3.747743             9.953530      0.970338      70.400078   \n",
       "UKI74       4.022762            10.483912      0.995814      52.331597   \n",
       "DE21F       2.613219             7.298616      0.796922     109.000675   \n",
       "DE21G       2.396661             8.284346      0.911123      76.906713   \n",
       "UKC23       5.385735             9.080700      0.959126      54.822049   \n",
       "\n",
       "            SOLAR_RAD_avg   LAI_avg  \n",
       "CODE_NUTS3                           \n",
       "UKD33         9287.124356  1.365212  \n",
       "UKI74         9711.670648  1.676107  \n",
       "DE21F        11463.416494  2.555620  \n",
       "DE21G        11003.100022  2.670005  \n",
       "UKC23         9251.519674  1.202203  "
      ]
     },
     "execution_count": 27,
     "metadata": {},
     "output_type": "execute_result"
    }
   ],
   "source": [
    "pop_env_data_train_X.head()"
   ]
  },
  {
   "cell_type": "markdown",
   "id": "78b1d25b-ea37-4bcf-8a6c-0f9ebfa1dfd7",
   "metadata": {},
   "source": [
    "## Implement Model"
   ]
  },
  {
   "cell_type": "markdown",
   "id": "9c0539f6-cc48-4c01-961b-ed4edb1f56cf",
   "metadata": {},
   "source": [
    "### Population Data Model"
   ]
  },
  {
   "cell_type": "code",
   "execution_count": 28,
   "id": "69387001-fda6-479d-809a-d9ed021e102e",
   "metadata": {},
   "outputs": [],
   "source": [
    "alphas = [1e-3, 1e-2, 1e-1, 1]"
   ]
  },
  {
   "cell_type": "code",
   "execution_count": 29,
   "id": "5e90df88-e671-4047-bf3b-622f41c1e152",
   "metadata": {},
   "outputs": [],
   "source": [
    "train_X = pop_data_train_X\n",
    "train_Y = pop_data_train_Y\n",
    "test_X = pop_data_test_X\n",
    "test_Y = pop_data_test_Y"
   ]
  },
  {
   "cell_type": "code",
   "execution_count": 30,
   "id": "4f320774-4ea6-4ef9-9cf2-73c8aee1819c",
   "metadata": {},
   "outputs": [],
   "source": [
    "ridge_regressor = RidgeCV(alphas=alphas).fit(train_X, train_Y)"
   ]
  },
  {
   "cell_type": "code",
   "execution_count": 31,
   "id": "e2049511-a0c1-47c8-95a5-9fc3624ae8d0",
   "metadata": {},
   "outputs": [
    {
     "name": "stdout",
     "output_type": "stream",
     "text": [
      "The test coefficient of determination is: -4.058266488334213\n"
     ]
    }
   ],
   "source": [
    "print(f'The test coefficient of determination is: {ridge_regressor.score(test_X, test_Y)}')"
   ]
  },
  {
   "cell_type": "markdown",
   "id": "eba207fe-ed03-4291-bdb3-179fcc09184b",
   "metadata": {},
   "source": [
    "### Population and Environment Data Model"
   ]
  },
  {
   "cell_type": "code",
   "execution_count": 32,
   "id": "f1fa3b38-a4c2-4506-afe4-92e62584c314",
   "metadata": {},
   "outputs": [],
   "source": [
    "alphas = [1e-3, 1e-2, 1e-1, 1]"
   ]
  },
  {
   "cell_type": "code",
   "execution_count": 33,
   "id": "d0fccf59-8f02-4dd5-a2f8-adcb73e51209",
   "metadata": {},
   "outputs": [],
   "source": [
    "train_X = pop_env_data_train_X\n",
    "train_Y = pop_env_data_train_Y\n",
    "test_X = pop_env_data_test_X\n",
    "test_Y = pop_env_data_test_Y"
   ]
  },
  {
   "cell_type": "code",
   "execution_count": 34,
   "id": "1b06ec3c-15ad-42b8-8240-fed34ddbb7da",
   "metadata": {},
   "outputs": [],
   "source": [
    "ridge_regressor = RidgeCV(alphas=alphas).fit(train_X, train_Y)"
   ]
  },
  {
   "cell_type": "code",
   "execution_count": 35,
   "id": "af3e9158-c30d-4017-b582-402eb200d5c3",
   "metadata": {},
   "outputs": [
    {
     "name": "stdout",
     "output_type": "stream",
     "text": [
      "The test coefficient of determination is: 0.20671567215690678\n"
     ]
    }
   ],
   "source": [
    "print(f'The test coefficient of determination is: {ridge_regressor.score(test_X, test_Y)}')"
   ]
  }
 ],
 "metadata": {
  "kernelspec": {
   "display_name": "Python 3 (ipykernel)",
   "language": "python",
   "name": "python3"
  },
  "language_info": {
   "codemirror_mode": {
    "name": "ipython",
    "version": 3
   },
   "file_extension": ".py",
   "mimetype": "text/x-python",
   "name": "python",
   "nbconvert_exporter": "python",
   "pygments_lexer": "ipython3",
   "version": "3.10.5"
  }
 },
 "nbformat": 4,
 "nbformat_minor": 5
}
