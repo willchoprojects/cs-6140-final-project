{
 "cells": [
  {
   "cell_type": "markdown",
   "id": "49114e07-9271-418d-ab12-4d9fd7eeead1",
   "metadata": {},
   "source": [
    "# CS 6140 Final Project"
   ]
  },
  {
   "cell_type": "markdown",
   "id": "dc2d880f-cd3c-4c01-bfee-297f33a65c59",
   "metadata": {},
   "source": [
    "Fall 2022\n",
    "\n",
    "Group 8"
   ]
  },
  {
   "cell_type": "markdown",
   "id": "2b460208-21ad-4f80-83c5-47e3ba6c8dd0",
   "metadata": {
    "tags": []
   },
   "source": [
    "# Multilayer Perceptron Regression Model"
   ]
  },
  {
   "cell_type": "markdown",
   "id": "249f3aec-9c78-4491-a9b0-ea5858acfb43",
   "metadata": {},
   "source": [
    "## Setup"
   ]
  },
  {
   "cell_type": "code",
   "execution_count": 71,
   "id": "3314b803-46d2-4cac-9a0f-2f07cc07b29d",
   "metadata": {},
   "outputs": [],
   "source": [
    "import numpy as np\n",
    "import pandas as pd\n",
    "import seaborn as sns\n",
    "import matplotlib.pyplot as plt\n",
    "from sklearn.neural_network import MLPRegressor\n",
    "from sklearn.model_selection import GridSearchCV"
   ]
  },
  {
   "cell_type": "markdown",
   "id": "86e53c27-e1dd-4861-ab35-71e4f64bbc71",
   "metadata": {},
   "source": [
    "## Import Data from CSV"
   ]
  },
  {
   "cell_type": "code",
   "execution_count": 72,
   "id": "7d293eb9-0405-43e8-9c5e-e3e046cb8d16",
   "metadata": {},
   "outputs": [],
   "source": [
    "BASE_PATH = '../data'\n",
    "POP_DATA_DF_FILE_NAME = 'pop_data_df'\n",
    "POP_ENV_DATA_DF_FILE_NAME = 'pop_env_data_df'\n",
    "EXTENSION = '.csv'"
   ]
  },
  {
   "cell_type": "code",
   "execution_count": 73,
   "id": "29ff941e-7d90-4d2e-9c29-47de43c37f33",
   "metadata": {},
   "outputs": [],
   "source": [
    "pop_data_train_X = pd.read_csv(f'{BASE_PATH}/{POP_DATA_DF_FILE_NAME}_train_X{EXTENSION}', index_col=0)\n",
    "pop_data_train_Y = pd.read_csv(f'{BASE_PATH}/{POP_DATA_DF_FILE_NAME}_train_Y{EXTENSION}', index_col=0)\n",
    "pop_data_test_X = pd.read_csv(f'{BASE_PATH}/{POP_DATA_DF_FILE_NAME}_test_X{EXTENSION}', index_col=0)\n",
    "pop_data_test_Y = pd.read_csv(f'{BASE_PATH}/{POP_DATA_DF_FILE_NAME}_test_Y{EXTENSION}', index_col=0)"
   ]
  },
  {
   "cell_type": "code",
   "execution_count": 74,
   "id": "a19ce9ae-12cc-409c-846d-deb4d85e911a",
   "metadata": {},
   "outputs": [
    {
     "data": {
      "text/html": [
       "<div>\n",
       "<style scoped>\n",
       "    .dataframe tbody tr th:only-of-type {\n",
       "        vertical-align: middle;\n",
       "    }\n",
       "\n",
       "    .dataframe tbody tr th {\n",
       "        vertical-align: top;\n",
       "    }\n",
       "\n",
       "    .dataframe thead th {\n",
       "        text-align: right;\n",
       "    }\n",
       "</style>\n",
       "<table border=\"1\" class=\"dataframe\">\n",
       "  <thead>\n",
       "    <tr style=\"text-align: right;\">\n",
       "      <th></th>\n",
       "      <th>POP_DENS</th>\n",
       "      <th>POP 0-14</th>\n",
       "      <th>POP 15-29</th>\n",
       "      <th>POP 30-44</th>\n",
       "      <th>POP 45-59</th>\n",
       "      <th>POP_GROWTH</th>\n",
       "      <th>HOUSEHOLDS</th>\n",
       "      <th>DWELLINGS</th>\n",
       "    </tr>\n",
       "    <tr>\n",
       "      <th>CODE_NUTS3</th>\n",
       "      <th></th>\n",
       "      <th></th>\n",
       "      <th></th>\n",
       "      <th></th>\n",
       "      <th></th>\n",
       "      <th></th>\n",
       "      <th></th>\n",
       "      <th></th>\n",
       "    </tr>\n",
       "  </thead>\n",
       "  <tbody>\n",
       "    <tr>\n",
       "      <th>UKD33</th>\n",
       "      <td>4778.0</td>\n",
       "      <td>106168.0</td>\n",
       "      <td>169423.0</td>\n",
       "      <td>123404.0</td>\n",
       "      <td>82110.0</td>\n",
       "      <td>6.0</td>\n",
       "      <td>234751</td>\n",
       "      <td>226986</td>\n",
       "    </tr>\n",
       "    <tr>\n",
       "      <th>UKI74</th>\n",
       "      <td>3372.0</td>\n",
       "      <td>113739.0</td>\n",
       "      <td>106660.0</td>\n",
       "      <td>126581.0</td>\n",
       "      <td>105063.0</td>\n",
       "      <td>4.0</td>\n",
       "      <td>209295</td>\n",
       "      <td>202070</td>\n",
       "    </tr>\n",
       "    <tr>\n",
       "      <th>DE21F</th>\n",
       "      <td>116.0</td>\n",
       "      <td>13684.0</td>\n",
       "      <td>15669.0</td>\n",
       "      <td>17515.0</td>\n",
       "      <td>24401.0</td>\n",
       "      <td>4.0</td>\n",
       "      <td>49170</td>\n",
       "      <td>50795</td>\n",
       "    </tr>\n",
       "    <tr>\n",
       "      <th>DE21G</th>\n",
       "      <td>144.0</td>\n",
       "      <td>16220.0</td>\n",
       "      <td>20210.0</td>\n",
       "      <td>20988.0</td>\n",
       "      <td>27603.0</td>\n",
       "      <td>6.0</td>\n",
       "      <td>51506</td>\n",
       "      <td>50667</td>\n",
       "    </tr>\n",
       "    <tr>\n",
       "      <th>UKC23</th>\n",
       "      <td>2021.0</td>\n",
       "      <td>46434.0</td>\n",
       "      <td>52562.0</td>\n",
       "      <td>48995.0</td>\n",
       "      <td>58993.0</td>\n",
       "      <td>1.0</td>\n",
       "      <td>126170</td>\n",
       "      <td>128789</td>\n",
       "    </tr>\n",
       "  </tbody>\n",
       "</table>\n",
       "</div>"
      ],
      "text/plain": [
       "            POP_DENS  POP 0-14  POP 15-29  POP 30-44  POP 45-59  POP_GROWTH  \\\n",
       "CODE_NUTS3                                                                    \n",
       "UKD33         4778.0  106168.0   169423.0   123404.0    82110.0         6.0   \n",
       "UKI74         3372.0  113739.0   106660.0   126581.0   105063.0         4.0   \n",
       "DE21F          116.0   13684.0    15669.0    17515.0    24401.0         4.0   \n",
       "DE21G          144.0   16220.0    20210.0    20988.0    27603.0         6.0   \n",
       "UKC23         2021.0   46434.0    52562.0    48995.0    58993.0         1.0   \n",
       "\n",
       "            HOUSEHOLDS  DWELLINGS  \n",
       "CODE_NUTS3                         \n",
       "UKD33           234751     226986  \n",
       "UKI74           209295     202070  \n",
       "DE21F            49170      50795  \n",
       "DE21G            51506      50667  \n",
       "UKC23           126170     128789  "
      ]
     },
     "execution_count": 74,
     "metadata": {},
     "output_type": "execute_result"
    }
   ],
   "source": [
    "pop_data_train_X.head()"
   ]
  },
  {
   "cell_type": "code",
   "execution_count": 75,
   "id": "aac67af3-b1a9-4dfa-96c5-be4f342b36ae",
   "metadata": {},
   "outputs": [],
   "source": [
    "pop_env_data_train_X = pd.read_csv(f'{BASE_PATH}/{POP_ENV_DATA_DF_FILE_NAME}_train_X{EXTENSION}', index_col=0)\n",
    "pop_env_data_train_Y = pd.read_csv(f'{BASE_PATH}/{POP_ENV_DATA_DF_FILE_NAME}_train_Y{EXTENSION}', index_col=0)\n",
    "pop_env_data_test_X = pd.read_csv(f'{BASE_PATH}/{POP_ENV_DATA_DF_FILE_NAME}_test_X{EXTENSION}', index_col=0)\n",
    "pop_env_data_test_Y = pd.read_csv(f'{BASE_PATH}/{POP_ENV_DATA_DF_FILE_NAME}_test_Y{EXTENSION}', index_col=0)"
   ]
  },
  {
   "cell_type": "code",
   "execution_count": 76,
   "id": "7aa616c6-ec15-4c9d-918e-ae84aced777f",
   "metadata": {},
   "outputs": [
    {
     "data": {
      "text/html": [
       "<div>\n",
       "<style scoped>\n",
       "    .dataframe tbody tr th:only-of-type {\n",
       "        vertical-align: middle;\n",
       "    }\n",
       "\n",
       "    .dataframe tbody tr th {\n",
       "        vertical-align: top;\n",
       "    }\n",
       "\n",
       "    .dataframe thead th {\n",
       "        text-align: right;\n",
       "    }\n",
       "</style>\n",
       "<table border=\"1\" class=\"dataframe\">\n",
       "  <thead>\n",
       "    <tr style=\"text-align: right;\">\n",
       "      <th></th>\n",
       "      <th>POP_DENS</th>\n",
       "      <th>POP 0-14</th>\n",
       "      <th>POP 15-29</th>\n",
       "      <th>POP 30-44</th>\n",
       "      <th>POP 45-59</th>\n",
       "      <th>POP_GROWTH</th>\n",
       "      <th>HOUSEHOLDS</th>\n",
       "      <th>DWELLINGS</th>\n",
       "      <th>SURFACE AREA</th>\n",
       "      <th>NTL_avg</th>\n",
       "      <th>NO2_avg</th>\n",
       "      <th>WIND_Avg</th>\n",
       "      <th>Temp_mean_over12yrs</th>\n",
       "      <th>PRESSURE_avg</th>\n",
       "      <th>PRECIPITATION</th>\n",
       "      <th>SOLAR_RAD_avg</th>\n",
       "      <th>LAI_avg</th>\n",
       "    </tr>\n",
       "    <tr>\n",
       "      <th>CODE_NUTS3</th>\n",
       "      <th></th>\n",
       "      <th></th>\n",
       "      <th></th>\n",
       "      <th></th>\n",
       "      <th></th>\n",
       "      <th></th>\n",
       "      <th></th>\n",
       "      <th></th>\n",
       "      <th></th>\n",
       "      <th></th>\n",
       "      <th></th>\n",
       "      <th></th>\n",
       "      <th></th>\n",
       "      <th></th>\n",
       "      <th></th>\n",
       "      <th></th>\n",
       "      <th></th>\n",
       "    </tr>\n",
       "  </thead>\n",
       "  <tbody>\n",
       "    <tr>\n",
       "      <th>UKD33</th>\n",
       "      <td>4778.0</td>\n",
       "      <td>106168.0</td>\n",
       "      <td>169423.0</td>\n",
       "      <td>123404.0</td>\n",
       "      <td>82110.0</td>\n",
       "      <td>6.0</td>\n",
       "      <td>234751</td>\n",
       "      <td>226986</td>\n",
       "      <td>114.15</td>\n",
       "      <td>63.000000</td>\n",
       "      <td>5.585338</td>\n",
       "      <td>3.747743</td>\n",
       "      <td>9.953530</td>\n",
       "      <td>0.970338</td>\n",
       "      <td>70.400078</td>\n",
       "      <td>9287.124356</td>\n",
       "      <td>1.365212</td>\n",
       "    </tr>\n",
       "    <tr>\n",
       "      <th>UKI74</th>\n",
       "      <td>3372.0</td>\n",
       "      <td>113739.0</td>\n",
       "      <td>106660.0</td>\n",
       "      <td>126581.0</td>\n",
       "      <td>105063.0</td>\n",
       "      <td>4.0</td>\n",
       "      <td>209295</td>\n",
       "      <td>202070</td>\n",
       "      <td>164.04</td>\n",
       "      <td>62.611111</td>\n",
       "      <td>5.838824</td>\n",
       "      <td>4.022762</td>\n",
       "      <td>10.483912</td>\n",
       "      <td>0.995814</td>\n",
       "      <td>52.331597</td>\n",
       "      <td>9711.670648</td>\n",
       "      <td>1.676107</td>\n",
       "    </tr>\n",
       "    <tr>\n",
       "      <th>DE21F</th>\n",
       "      <td>116.0</td>\n",
       "      <td>13684.0</td>\n",
       "      <td>15669.0</td>\n",
       "      <td>17515.0</td>\n",
       "      <td>24401.0</td>\n",
       "      <td>4.0</td>\n",
       "      <td>49170</td>\n",
       "      <td>50795</td>\n",
       "      <td>857.98</td>\n",
       "      <td>10.228535</td>\n",
       "      <td>2.574793</td>\n",
       "      <td>2.613219</td>\n",
       "      <td>7.298616</td>\n",
       "      <td>0.796922</td>\n",
       "      <td>109.000675</td>\n",
       "      <td>11463.416494</td>\n",
       "      <td>2.555620</td>\n",
       "    </tr>\n",
       "    <tr>\n",
       "      <th>DE21G</th>\n",
       "      <td>144.0</td>\n",
       "      <td>16220.0</td>\n",
       "      <td>20210.0</td>\n",
       "      <td>20988.0</td>\n",
       "      <td>27603.0</td>\n",
       "      <td>6.0</td>\n",
       "      <td>51506</td>\n",
       "      <td>50667</td>\n",
       "      <td>797.05</td>\n",
       "      <td>10.397917</td>\n",
       "      <td>2.833501</td>\n",
       "      <td>2.396661</td>\n",
       "      <td>8.284346</td>\n",
       "      <td>0.911123</td>\n",
       "      <td>76.906713</td>\n",
       "      <td>11003.100022</td>\n",
       "      <td>2.670005</td>\n",
       "    </tr>\n",
       "    <tr>\n",
       "      <th>UKC23</th>\n",
       "      <td>2021.0</td>\n",
       "      <td>46434.0</td>\n",
       "      <td>52562.0</td>\n",
       "      <td>48995.0</td>\n",
       "      <td>58993.0</td>\n",
       "      <td>1.0</td>\n",
       "      <td>126170</td>\n",
       "      <td>128789</td>\n",
       "      <td>136.64</td>\n",
       "      <td>58.305557</td>\n",
       "      <td>3.644446</td>\n",
       "      <td>5.385735</td>\n",
       "      <td>9.080700</td>\n",
       "      <td>0.959126</td>\n",
       "      <td>54.822049</td>\n",
       "      <td>9251.519674</td>\n",
       "      <td>1.202203</td>\n",
       "    </tr>\n",
       "  </tbody>\n",
       "</table>\n",
       "</div>"
      ],
      "text/plain": [
       "            POP_DENS  POP 0-14  POP 15-29  POP 30-44  POP 45-59  POP_GROWTH  \\\n",
       "CODE_NUTS3                                                                    \n",
       "UKD33         4778.0  106168.0   169423.0   123404.0    82110.0         6.0   \n",
       "UKI74         3372.0  113739.0   106660.0   126581.0   105063.0         4.0   \n",
       "DE21F          116.0   13684.0    15669.0    17515.0    24401.0         4.0   \n",
       "DE21G          144.0   16220.0    20210.0    20988.0    27603.0         6.0   \n",
       "UKC23         2021.0   46434.0    52562.0    48995.0    58993.0         1.0   \n",
       "\n",
       "            HOUSEHOLDS  DWELLINGS  SURFACE AREA    NTL_avg   NO2_avg  \\\n",
       "CODE_NUTS3                                                             \n",
       "UKD33           234751     226986        114.15  63.000000  5.585338   \n",
       "UKI74           209295     202070        164.04  62.611111  5.838824   \n",
       "DE21F            49170      50795        857.98  10.228535  2.574793   \n",
       "DE21G            51506      50667        797.05  10.397917  2.833501   \n",
       "UKC23           126170     128789        136.64  58.305557  3.644446   \n",
       "\n",
       "            WIND_Avg  Temp_mean_over12yrs  PRESSURE_avg  PRECIPITATION  \\\n",
       "CODE_NUTS3                                                               \n",
       "UKD33       3.747743             9.953530      0.970338      70.400078   \n",
       "UKI74       4.022762            10.483912      0.995814      52.331597   \n",
       "DE21F       2.613219             7.298616      0.796922     109.000675   \n",
       "DE21G       2.396661             8.284346      0.911123      76.906713   \n",
       "UKC23       5.385735             9.080700      0.959126      54.822049   \n",
       "\n",
       "            SOLAR_RAD_avg   LAI_avg  \n",
       "CODE_NUTS3                           \n",
       "UKD33         9287.124356  1.365212  \n",
       "UKI74         9711.670648  1.676107  \n",
       "DE21F        11463.416494  2.555620  \n",
       "DE21G        11003.100022  2.670005  \n",
       "UKC23         9251.519674  1.202203  "
      ]
     },
     "execution_count": 76,
     "metadata": {},
     "output_type": "execute_result"
    }
   ],
   "source": [
    "pop_env_data_train_X.head()"
   ]
  },
  {
   "cell_type": "markdown",
   "id": "78b1d25b-ea37-4bcf-8a6c-0f9ebfa1dfd7",
   "metadata": {},
   "source": [
    "## Implement Model"
   ]
  },
  {
   "cell_type": "markdown",
   "id": "9c0539f6-cc48-4c01-961b-ed4edb1f56cf",
   "metadata": {},
   "source": [
    "### Population Data Model"
   ]
  },
  {
   "cell_type": "code",
   "execution_count": 57,
   "id": "69387001-fda6-479d-809a-d9ed021e102e",
   "metadata": {},
   "outputs": [],
   "source": [
    "OUTPUT_COLS = ['COVID_Mortality_R']\n",
    "\n",
    "NUM_MAX_ITERATIONS = 10000\n",
    "\n",
    "TEST_SIZE = 0.33\n",
    "NUM_CROSS_VALIDATIONS = 10"
   ]
  },
  {
   "cell_type": "code",
   "execution_count": 58,
   "id": "5e90df88-e671-4047-bf3b-622f41c1e152",
   "metadata": {},
   "outputs": [],
   "source": [
    "train_X = pop_data_train_X\n",
    "train_Y = pop_data_train_Y\n",
    "test_X = pop_data_test_X\n",
    "test_Y = pop_data_test_Y"
   ]
  },
  {
   "cell_type": "code",
   "execution_count": 59,
   "id": "4f320774-4ea6-4ef9-9cf2-73c8aee1819c",
   "metadata": {},
   "outputs": [],
   "source": [
    "mlp_regressor = MLPRegressor(max_iter=NUM_MAX_ITERATIONS)"
   ]
  },
  {
   "cell_type": "code",
   "execution_count": 60,
   "id": "f8f6e871-d801-408d-a46c-69bee14afc72",
   "metadata": {},
   "outputs": [],
   "source": [
    "param_options = {\n",
    "    'hidden_layer_sizes': [\n",
    "        (2), (2, 2), (2, 2, 2), (2, 2, 2, 2), (2, 2, 2, 2, 2), \n",
    "        (3), (3, 3), (3, 3, 3), (3, 3, 3, 3), (3, 3, 3, 3, 3),\n",
    "        (5), (5, 5), (5, 5, 5), (5, 5, 5, 5), (5, 5, 5, 5, 5),\n",
    "        (10), (10, 10), (10, 10, 10), (10, 10, 10, 10), (10, 10, 10, 10, 10),\n",
    "        (20), (20, 20), (20, 20, 20), (20, 20, 20, 20), (20, 20, 20, 20, 20)\n",
    "    ]\n",
    "}"
   ]
  },
  {
   "cell_type": "code",
   "execution_count": 61,
   "id": "c40c34f6-11ef-4904-b7ef-0bf81fb7d451",
   "metadata": {},
   "outputs": [
    {
     "data": {
      "text/html": [
       "<style>#sk-container-id-6 {color: black;background-color: white;}#sk-container-id-6 pre{padding: 0;}#sk-container-id-6 div.sk-toggleable {background-color: white;}#sk-container-id-6 label.sk-toggleable__label {cursor: pointer;display: block;width: 100%;margin-bottom: 0;padding: 0.3em;box-sizing: border-box;text-align: center;}#sk-container-id-6 label.sk-toggleable__label-arrow:before {content: \"▸\";float: left;margin-right: 0.25em;color: #696969;}#sk-container-id-6 label.sk-toggleable__label-arrow:hover:before {color: black;}#sk-container-id-6 div.sk-estimator:hover label.sk-toggleable__label-arrow:before {color: black;}#sk-container-id-6 div.sk-toggleable__content {max-height: 0;max-width: 0;overflow: hidden;text-align: left;background-color: #f0f8ff;}#sk-container-id-6 div.sk-toggleable__content pre {margin: 0.2em;color: black;border-radius: 0.25em;background-color: #f0f8ff;}#sk-container-id-6 input.sk-toggleable__control:checked~div.sk-toggleable__content {max-height: 200px;max-width: 100%;overflow: auto;}#sk-container-id-6 input.sk-toggleable__control:checked~label.sk-toggleable__label-arrow:before {content: \"▾\";}#sk-container-id-6 div.sk-estimator input.sk-toggleable__control:checked~label.sk-toggleable__label {background-color: #d4ebff;}#sk-container-id-6 div.sk-label input.sk-toggleable__control:checked~label.sk-toggleable__label {background-color: #d4ebff;}#sk-container-id-6 input.sk-hidden--visually {border: 0;clip: rect(1px 1px 1px 1px);clip: rect(1px, 1px, 1px, 1px);height: 1px;margin: -1px;overflow: hidden;padding: 0;position: absolute;width: 1px;}#sk-container-id-6 div.sk-estimator {font-family: monospace;background-color: #f0f8ff;border: 1px dotted black;border-radius: 0.25em;box-sizing: border-box;margin-bottom: 0.5em;}#sk-container-id-6 div.sk-estimator:hover {background-color: #d4ebff;}#sk-container-id-6 div.sk-parallel-item::after {content: \"\";width: 100%;border-bottom: 1px solid gray;flex-grow: 1;}#sk-container-id-6 div.sk-label:hover label.sk-toggleable__label {background-color: #d4ebff;}#sk-container-id-6 div.sk-serial::before {content: \"\";position: absolute;border-left: 1px solid gray;box-sizing: border-box;top: 0;bottom: 0;left: 50%;z-index: 0;}#sk-container-id-6 div.sk-serial {display: flex;flex-direction: column;align-items: center;background-color: white;padding-right: 0.2em;padding-left: 0.2em;position: relative;}#sk-container-id-6 div.sk-item {position: relative;z-index: 1;}#sk-container-id-6 div.sk-parallel {display: flex;align-items: stretch;justify-content: center;background-color: white;position: relative;}#sk-container-id-6 div.sk-item::before, #sk-container-id-6 div.sk-parallel-item::before {content: \"\";position: absolute;border-left: 1px solid gray;box-sizing: border-box;top: 0;bottom: 0;left: 50%;z-index: -1;}#sk-container-id-6 div.sk-parallel-item {display: flex;flex-direction: column;z-index: 1;position: relative;background-color: white;}#sk-container-id-6 div.sk-parallel-item:first-child::after {align-self: flex-end;width: 50%;}#sk-container-id-6 div.sk-parallel-item:last-child::after {align-self: flex-start;width: 50%;}#sk-container-id-6 div.sk-parallel-item:only-child::after {width: 0;}#sk-container-id-6 div.sk-dashed-wrapped {border: 1px dashed gray;margin: 0 0.4em 0.5em 0.4em;box-sizing: border-box;padding-bottom: 0.4em;background-color: white;}#sk-container-id-6 div.sk-label label {font-family: monospace;font-weight: bold;display: inline-block;line-height: 1.2em;}#sk-container-id-6 div.sk-label-container {text-align: center;}#sk-container-id-6 div.sk-container {/* jupyter's `normalize.less` sets `[hidden] { display: none; }` but bootstrap.min.css set `[hidden] { display: none !important; }` so we also need the `!important` here to be able to override the default hidden behavior on the sphinx rendered scikit-learn.org. See: https://github.com/scikit-learn/scikit-learn/issues/21755 */display: inline-block !important;position: relative;}#sk-container-id-6 div.sk-text-repr-fallback {display: none;}</style><div id=\"sk-container-id-6\" class=\"sk-top-container\"><div class=\"sk-text-repr-fallback\"><pre>MLPRegressor(max_iter=10000)</pre><b>In a Jupyter environment, please rerun this cell to show the HTML representation or trust the notebook. <br />On GitHub, the HTML representation is unable to render, please try loading this page with nbviewer.org.</b></div><div class=\"sk-container\" hidden><div class=\"sk-item\"><div class=\"sk-estimator sk-toggleable\"><input class=\"sk-toggleable__control sk-hidden--visually\" id=\"sk-estimator-id-6\" type=\"checkbox\" checked><label for=\"sk-estimator-id-6\" class=\"sk-toggleable__label sk-toggleable__label-arrow\">MLPRegressor</label><div class=\"sk-toggleable__content\"><pre>MLPRegressor(max_iter=10000)</pre></div></div></div></div></div>"
      ],
      "text/plain": [
       "MLPRegressor(max_iter=10000)"
      ]
     },
     "execution_count": 61,
     "metadata": {},
     "output_type": "execute_result"
    }
   ],
   "source": [
    "mlp_regressor.fit(train_X, train_Y.values.ravel())"
   ]
  },
  {
   "cell_type": "code",
   "execution_count": null,
   "id": "dd17a88f-8f52-4923-95f2-898e64e8c255",
   "metadata": {},
   "outputs": [],
   "source": [
    "mlp_grid_cross_validation = GridSearchCV(mlp_regressor, param_options, refit=True, cv=NUM_CROSS_VALIDATIONS).fit(train_X, train_Y.values.ravel())\n",
    "best_mlp_regressor = mlp_grid_cross_validation.best_estimator_\n",
    "best_mlp_regressor.fit(train_X, train_Y)"
   ]
  },
  {
   "cell_type": "code",
   "execution_count": 69,
   "id": "6c161562-448e-4ccc-93d7-ac5ef65594e8",
   "metadata": {},
   "outputs": [
    {
     "data": {
      "image/png": "[encoded data removed]",
      "text/plain": [
       "<Figure size 432x288 with 2 Axes>"
      ]
     },
     "metadata": {
      "needs_background": "light"
     },
     "output_type": "display_data"
    }
   ],
   "source": [
    "results_hash = mlp_grid_cross_validation.cv_results_\n",
    "results_stats_df = pd.DataFrame(columns=['num_per_layer', 'num_layer', 'score'])\n",
    "\n",
    "for param_set, mean_score in zip(results_hash['params'], results_hash['mean_test_score']):\n",
    "    if type(param_set['hidden_layer_sizes']) is int:\n",
    "        results_stats_df.loc[len(results_stats_df.index)] = [1, param_set['hidden_layer_sizes'], mean_score]\n",
    "    else:\n",
    "        results_stats_df.loc[len(results_stats_df.index)] = [len(param_set['hidden_layer_sizes']), param_set['hidden_layer_sizes'][0], mean_score]\n",
    "\n",
    "results_stats_df = results_stats_df.pivot(\"num_per_layer\", \"num_layer\", \"score\")\n",
    "\n",
    "ax = plt.axes()\n",
    "ax = sns.heatmap(results_stats_df, annot=True)\n",
    "ax.set_title('Coefficient of Determination')\n",
    "plt.show()"
   ]
  },
  {
   "cell_type": "code",
   "execution_count": 68,
   "id": "e2049511-a0c1-47c8-95a5-9fc3624ae8d0",
   "metadata": {},
   "outputs": [
    {
     "name": "stdout",
     "output_type": "stream",
     "text": [
      "The best loss is: 609.7227035968459\n"
     ]
    }
   ],
   "source": [
    "print(f'The best loss is: {best_mlp_regressor.best_loss_}')"
   ]
  },
  {
   "cell_type": "code",
   "execution_count": 70,
   "id": "002b8cc5-a408-4746-939e-fc5f039e86b0",
   "metadata": {},
   "outputs": [
    {
     "name": "stdout",
     "output_type": "stream",
     "text": [
      "The coefficient of determination is: -4.2941876619472175e-01\n"
     ]
    }
   ],
   "source": [
    "print(f'The coefficient of determination is: {np.format_float_scientific(best_mlp_regressor.score(test_X, test_Y))}')"
   ]
  },
  {
   "cell_type": "markdown",
   "id": "eba207fe-ed03-4291-bdb3-179fcc09184b",
   "metadata": {},
   "source": [
    "### Population and Environment Data Model"
   ]
  },
  {
   "cell_type": "code",
   "execution_count": 77,
   "id": "04e90183-ab3d-4037-9688-8020996bcb98",
   "metadata": {},
   "outputs": [],
   "source": [
    "OUTPUT_COLS = ['COVID_Mortality_R']\n",
    "\n",
    "NUM_MAX_ITERATIONS = 10000\n",
    "\n",
    "TEST_SIZE = 0.33\n",
    "NUM_CROSS_VALIDATIONS = 10"
   ]
  },
  {
   "cell_type": "code",
   "execution_count": 78,
   "id": "7f24d9ca-8bf6-4728-9b9c-c904217c61bb",
   "metadata": {},
   "outputs": [],
   "source": [
    "train_X = pop_env_data_train_X\n",
    "train_Y = pop_env_data_train_Y\n",
    "test_X = pop_env_data_test_X\n",
    "test_Y = pop_env_data_test_Y"
   ]
  },
  {
   "cell_type": "code",
   "execution_count": 79,
   "id": "a44ee629-e466-4fa7-bc62-ab8c43420e83",
   "metadata": {},
   "outputs": [],
   "source": [
    "mlp_regressor = MLPRegressor(max_iter=NUM_MAX_ITERATIONS)"
   ]
  },
  {
   "cell_type": "code",
   "execution_count": 80,
   "id": "30249da8-ad3d-4634-a3ba-1bf18bafbcc7",
   "metadata": {},
   "outputs": [],
   "source": [
    "param_options = {\n",
    "    'hidden_layer_sizes': [\n",
    "        (2), (2, 2), (2, 2, 2), (2, 2, 2, 2), (2, 2, 2, 2, 2), \n",
    "        (3), (3, 3), (3, 3, 3), (3, 3, 3, 3), (3, 3, 3, 3, 3),\n",
    "        (5), (5, 5), (5, 5, 5), (5, 5, 5, 5), (5, 5, 5, 5, 5),\n",
    "        (10), (10, 10), (10, 10, 10), (10, 10, 10, 10), (10, 10, 10, 10, 10),\n",
    "        (20), (20, 20), (20, 20, 20), (20, 20, 20, 20), (20, 20, 20, 20, 20)\n",
    "    ]\n",
    "}"
   ]
  },
  {
   "cell_type": "code",
   "execution_count": 81,
   "id": "09e3af70-a8f3-4879-bf09-21b7cc69d988",
   "metadata": {},
   "outputs": [
    {
     "data": {
      "text/html": [
       "<style>#sk-container-id-8 {color: black;background-color: white;}#sk-container-id-8 pre{padding: 0;}#sk-container-id-8 div.sk-toggleable {background-color: white;}#sk-container-id-8 label.sk-toggleable__label {cursor: pointer;display: block;width: 100%;margin-bottom: 0;padding: 0.3em;box-sizing: border-box;text-align: center;}#sk-container-id-8 label.sk-toggleable__label-arrow:before {content: \"▸\";float: left;margin-right: 0.25em;color: #696969;}#sk-container-id-8 label.sk-toggleable__label-arrow:hover:before {color: black;}#sk-container-id-8 div.sk-estimator:hover label.sk-toggleable__label-arrow:before {color: black;}#sk-container-id-8 div.sk-toggleable__content {max-height: 0;max-width: 0;overflow: hidden;text-align: left;background-color: #f0f8ff;}#sk-container-id-8 div.sk-toggleable__content pre {margin: 0.2em;color: black;border-radius: 0.25em;background-color: #f0f8ff;}#sk-container-id-8 input.sk-toggleable__control:checked~div.sk-toggleable__content {max-height: 200px;max-width: 100%;overflow: auto;}#sk-container-id-8 input.sk-toggleable__control:checked~label.sk-toggleable__label-arrow:before {content: \"▾\";}#sk-container-id-8 div.sk-estimator input.sk-toggleable__control:checked~label.sk-toggleable__label {background-color: #d4ebff;}#sk-container-id-8 div.sk-label input.sk-toggleable__control:checked~label.sk-toggleable__label {background-color: #d4ebff;}#sk-container-id-8 input.sk-hidden--visually {border: 0;clip: rect(1px 1px 1px 1px);clip: rect(1px, 1px, 1px, 1px);height: 1px;margin: -1px;overflow: hidden;padding: 0;position: absolute;width: 1px;}#sk-container-id-8 div.sk-estimator {font-family: monospace;background-color: #f0f8ff;border: 1px dotted black;border-radius: 0.25em;box-sizing: border-box;margin-bottom: 0.5em;}#sk-container-id-8 div.sk-estimator:hover {background-color: #d4ebff;}#sk-container-id-8 div.sk-parallel-item::after {content: \"\";width: 100%;border-bottom: 1px solid gray;flex-grow: 1;}#sk-container-id-8 div.sk-label:hover label.sk-toggleable__label {background-color: #d4ebff;}#sk-container-id-8 div.sk-serial::before {content: \"\";position: absolute;border-left: 1px solid gray;box-sizing: border-box;top: 0;bottom: 0;left: 50%;z-index: 0;}#sk-container-id-8 div.sk-serial {display: flex;flex-direction: column;align-items: center;background-color: white;padding-right: 0.2em;padding-left: 0.2em;position: relative;}#sk-container-id-8 div.sk-item {position: relative;z-index: 1;}#sk-container-id-8 div.sk-parallel {display: flex;align-items: stretch;justify-content: center;background-color: white;position: relative;}#sk-container-id-8 div.sk-item::before, #sk-container-id-8 div.sk-parallel-item::before {content: \"\";position: absolute;border-left: 1px solid gray;box-sizing: border-box;top: 0;bottom: 0;left: 50%;z-index: -1;}#sk-container-id-8 div.sk-parallel-item {display: flex;flex-direction: column;z-index: 1;position: relative;background-color: white;}#sk-container-id-8 div.sk-parallel-item:first-child::after {align-self: flex-end;width: 50%;}#sk-container-id-8 div.sk-parallel-item:last-child::after {align-self: flex-start;width: 50%;}#sk-container-id-8 div.sk-parallel-item:only-child::after {width: 0;}#sk-container-id-8 div.sk-dashed-wrapped {border: 1px dashed gray;margin: 0 0.4em 0.5em 0.4em;box-sizing: border-box;padding-bottom: 0.4em;background-color: white;}#sk-container-id-8 div.sk-label label {font-family: monospace;font-weight: bold;display: inline-block;line-height: 1.2em;}#sk-container-id-8 div.sk-label-container {text-align: center;}#sk-container-id-8 div.sk-container {/* jupyter's `normalize.less` sets `[hidden] { display: none; }` but bootstrap.min.css set `[hidden] { display: none !important; }` so we also need the `!important` here to be able to override the default hidden behavior on the sphinx rendered scikit-learn.org. See: https://github.com/scikit-learn/scikit-learn/issues/21755 */display: inline-block !important;position: relative;}#sk-container-id-8 div.sk-text-repr-fallback {display: none;}</style><div id=\"sk-container-id-8\" class=\"sk-top-container\"><div class=\"sk-text-repr-fallback\"><pre>MLPRegressor(max_iter=10000)</pre><b>In a Jupyter environment, please rerun this cell to show the HTML representation or trust the notebook. <br />On GitHub, the HTML representation is unable to render, please try loading this page with nbviewer.org.</b></div><div class=\"sk-container\" hidden><div class=\"sk-item\"><div class=\"sk-estimator sk-toggleable\"><input class=\"sk-toggleable__control sk-hidden--visually\" id=\"sk-estimator-id-8\" type=\"checkbox\" checked><label for=\"sk-estimator-id-8\" class=\"sk-toggleable__label sk-toggleable__label-arrow\">MLPRegressor</label><div class=\"sk-toggleable__content\"><pre>MLPRegressor(max_iter=10000)</pre></div></div></div></div></div>"
      ],
      "text/plain": [
       "MLPRegressor(max_iter=10000)"
      ]
     },
     "execution_count": 81,
     "metadata": {},
     "output_type": "execute_result"
    }
   ],
   "source": [
    "mlp_regressor.fit(train_X, train_Y.values.ravel())"
   ]
  },
  {
   "cell_type": "code",
   "execution_count": null,
   "id": "2ded1eb4-b01e-41e0-92de-e285954f5fb6",
   "metadata": {},
   "outputs": [],
   "source": [
    "mlp_grid_cross_validation = GridSearchCV(mlp_regressor, param_options, refit=True, cv=NUM_CROSS_VALIDATIONS).fit(train_X, train_Y.values.ravel())\n",
    "best_mlp_regressor = mlp_grid_cross_validation.best_estimator_\n",
    "best_mlp_regressor.fit(train_X, train_Y)"
   ]
  },
  {
   "cell_type": "code",
   "execution_count": 83,
   "id": "a64f241b-b66f-499b-bfc9-ce0358e1d45d",
   "metadata": {},
   "outputs": [
    {
     "data": {
      "image/png": "[encoded data removed]",
      "text/plain": [
       "<Figure size 432x288 with 2 Axes>"
      ]
     },
     "metadata": {
      "needs_background": "light"
     },
     "output_type": "display_data"
    }
   ],
   "source": [
    "results_hash = mlp_grid_cross_validation.cv_results_\n",
    "results_stats_df = pd.DataFrame(columns=['num_per_layer', 'num_layer', 'score'])\n",
    "\n",
    "for param_set, mean_score in zip(results_hash['params'], results_hash['mean_test_score']):\n",
    "    if type(param_set['hidden_layer_sizes']) is int:\n",
    "        results_stats_df.loc[len(results_stats_df.index)] = [1, param_set['hidden_layer_sizes'], mean_score]\n",
    "    else:\n",
    "        results_stats_df.loc[len(results_stats_df.index)] = [len(param_set['hidden_layer_sizes']), param_set['hidden_layer_sizes'][0], mean_score]\n",
    "\n",
    "results_stats_df = results_stats_df.pivot(\"num_per_layer\", \"num_layer\", \"score\")\n",
    "\n",
    "ax = plt.axes()\n",
    "ax = sns.heatmap(results_stats_df, annot=True)\n",
    "ax.set_title('Coefficient of Determination')\n",
    "plt.show()"
   ]
  },
  {
   "cell_type": "code",
   "execution_count": 84,
   "id": "bc4d2fe7-6b0a-4734-ae0e-fd19d34c6e6f",
   "metadata": {},
   "outputs": [
    {
     "name": "stdout",
     "output_type": "stream",
     "text": [
      "The best loss is: 470.08860339418385\n"
     ]
    }
   ],
   "source": [
    "print(f'The best loss is: {best_mlp_regressor.best_loss_}')"
   ]
  },
  {
   "cell_type": "code",
   "execution_count": 85,
   "id": "f40134d0-f4b9-493e-9ba9-99b882e740fe",
   "metadata": {},
   "outputs": [
    {
     "name": "stdout",
     "output_type": "stream",
     "text": [
      "The coefficient of determination is: -1.2691526427310862e-04\n"
     ]
    }
   ],
   "source": [
    "print(f'The coefficient of determination is: {np.format_float_scientific(best_mlp_regressor.score(test_X, test_Y))}')"
   ]
  }
 ],
 "metadata": {
  "kernelspec": {
   "display_name": "Python 3 (ipykernel)",
   "language": "python",
   "name": "python3"
  },
  "language_info": {
   "codemirror_mode": {
    "name": "ipython",
    "version": 3
   },
   "file_extension": ".py",
   "mimetype": "text/x-python",
   "name": "python",
   "nbconvert_exporter": "python",
   "pygments_lexer": "ipython3",
   "version": "3.10.5"
  }
 },
 "nbformat": 4,
 "nbformat_minor": 5
}
